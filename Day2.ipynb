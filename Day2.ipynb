
Day-2 Datatypes and Variable assignments
List
list are mutable ordered collection of different datatypes
In [0]:
lst = ["my","name","is","Shrirang","Diwakar"]
In [0]:
lst
Out[0]:
['my', 'name', 'is', 'Shrirang', 'Diwakar']
Nested List
In [0]:
lst = ["my","name",["First name","Last name"],"is","Shrirang",[20,"Pune"],"Diwakar"]
In [0]:
lst
Out[0]:
['my',
 'name',
 ['First name', 'Last name'],
 'is',
 'Shrirang',
 [20, 'Pune'],
 'Diwakar']
